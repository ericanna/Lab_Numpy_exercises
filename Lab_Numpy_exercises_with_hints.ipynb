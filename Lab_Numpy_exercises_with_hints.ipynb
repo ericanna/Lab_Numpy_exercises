{
 "cells": [
  {
   "cell_type": "code",
   "execution_count": 2,
   "id": "d85ad6cb",
   "metadata": {},
   "outputs": [],
   "source": [
    "#1.Import the numpy package under the name np \n",
    "\n",
    "import numpy as np"
   ]
  },
  {
   "cell_type": "code",
   "execution_count": 11,
   "id": "8abfd164",
   "metadata": {},
   "outputs": [
    {
     "data": {
      "text/plain": [
       "array([0., 0., 0., 0., 0., 0., 0., 0., 0., 0.])"
      ]
     },
     "execution_count": 11,
     "metadata": {},
     "output_type": "execute_result"
    }
   ],
   "source": [
    "#2.Create a null vector of size 10\n",
    "\n",
    "vector1 = np.zeros(10)\n",
    "vector1"
   ]
  },
  {
   "cell_type": "code",
   "execution_count": 12,
   "id": "c3c70bac",
   "metadata": {},
   "outputs": [
    {
     "data": {
      "text/plain": [
       "array([0., 0., 0., 0., 1., 0., 0., 0., 0., 0.])"
      ]
     },
     "execution_count": 12,
     "metadata": {},
     "output_type": "execute_result"
    }
   ],
   "source": [
    "#3. Create a null vector of size 10 but the fifth value which is 1 \n",
    "\n",
    "vector2 = vector1\n",
    "vector2[4] = 1\n",
    "vector2"
   ]
  },
  {
   "cell_type": "code",
   "execution_count": 13,
   "id": "89d9e384",
   "metadata": {},
   "outputs": [
    {
     "data": {
      "text/plain": [
       "array([10, 11, 12, 13, 14, 15, 16, 17, 18, 19, 20, 21, 22, 23, 24, 25, 26,\n",
       "       27, 28, 29, 30, 31, 32, 33, 34, 35, 36, 37, 38, 39, 40, 41, 42, 43,\n",
       "       44, 45, 46, 47, 48, 49])"
      ]
     },
     "execution_count": 13,
     "metadata": {},
     "output_type": "execute_result"
    }
   ],
   "source": [
    "#4. Create a vector with values ranging from 10 to 49\n",
    "\n",
    "vector3 = np.arange(10,50)\n",
    "vector3"
   ]
  },
  {
   "cell_type": "code",
   "execution_count": 14,
   "id": "ba2e324d",
   "metadata": {},
   "outputs": [
    {
     "data": {
      "text/plain": [
       "array([[0, 1, 2],\n",
       "       [3, 4, 5],\n",
       "       [6, 7, 8]])"
      ]
     },
     "execution_count": 14,
     "metadata": {},
     "output_type": "execute_result"
    }
   ],
   "source": [
    "#5. Create a 3x3 matrix with values ranging from 0 to 8 \n",
    "\n",
    "vector4 = np.arange(9).reshape(3,3)\n",
    "vector4"
   ]
  },
  {
   "cell_type": "code",
   "execution_count": 3,
   "id": "f267ac3f",
   "metadata": {},
   "outputs": [
    {
     "name": "stdout",
     "output_type": "stream",
     "text": [
      "0\n",
      "1\n",
      "4\n"
     ]
    }
   ],
   "source": [
    "#6.Find indices of non-zero elements from [1,2,0,0,4,0]\n",
    "\n",
    "new_array = ([1,2,0,0,4,0])\n",
    "for i in new_array:\n",
    "    if i != 0:\n",
    "        print(new_array.index(i))"
   ]
  },
  {
   "cell_type": "code",
   "execution_count": 4,
   "id": "2bfe1f99",
   "metadata": {},
   "outputs": [
    {
     "data": {
      "text/plain": [
       "(array([0, 1, 4]),)"
      ]
     },
     "execution_count": 4,
     "metadata": {},
     "output_type": "execute_result"
    }
   ],
   "source": [
    "np.nonzero(new_array) #better way"
   ]
  },
  {
   "cell_type": "code",
   "execution_count": 19,
   "id": "ae579a89",
   "metadata": {},
   "outputs": [
    {
     "data": {
      "text/plain": [
       "array([[1., 0., 0.],\n",
       "       [0., 1., 0.],\n",
       "       [0., 0., 1.]])"
      ]
     },
     "execution_count": 19,
     "metadata": {},
     "output_type": "execute_result"
    }
   ],
   "source": [
    "#7. Create a 3x3 identity matrix\n",
    "\n",
    "identity = np.identity(3)\n",
    "identity"
   ]
  },
  {
   "cell_type": "code",
   "execution_count": 24,
   "id": "2ca13d3d",
   "metadata": {},
   "outputs": [
    {
     "data": {
      "text/plain": [
       "array([[[0.31004601, 0.61605717, 0.67857178],\n",
       "        [0.48066834, 0.32483558, 0.80462963],\n",
       "        [0.51658845, 0.57786154, 0.46535143]],\n",
       "\n",
       "       [[0.63515811, 0.33579135, 0.63296471],\n",
       "        [0.11742326, 0.78222512, 0.26023531],\n",
       "        [0.91065585, 0.72437192, 0.93022693]],\n",
       "\n",
       "       [[0.91333406, 0.15492319, 0.31236692],\n",
       "        [0.36237229, 0.73296114, 0.17453776],\n",
       "        [0.12546441, 0.03608137, 0.00105354]]])"
      ]
     },
     "execution_count": 24,
     "metadata": {},
     "output_type": "execute_result"
    }
   ],
   "source": [
    "#8. Create a 3x3x3 array with random values\n",
    "\n",
    "random_values = np.random.random((3,3,3))\n",
    "random_values"
   ]
  },
  {
   "cell_type": "code",
   "execution_count": 25,
   "id": "e42124a1",
   "metadata": {},
   "outputs": [
    {
     "data": {
      "text/plain": [
       "array([[0.29097312, 0.18958637, 0.58177538, 0.25546211, 0.65113038,\n",
       "        0.84738775, 0.03135678, 0.94281242, 0.62021372, 0.41589611],\n",
       "       [0.39789109, 0.73300989, 0.2369393 , 0.82940545, 0.23840101,\n",
       "        0.25153578, 0.02613858, 0.63396388, 0.2621829 , 0.6225687 ],\n",
       "       [0.82412521, 0.08406454, 0.19925754, 0.18380642, 0.8015549 ,\n",
       "        0.18680587, 0.5350663 , 0.0309446 , 0.64847274, 0.93838247],\n",
       "       [0.91816372, 0.95873496, 0.21004186, 0.81004941, 0.6688154 ,\n",
       "        0.79664788, 0.09862167, 0.11583597, 0.25818632, 0.85061   ],\n",
       "       [0.4993047 , 0.35756369, 0.08433278, 0.86777997, 0.7942008 ,\n",
       "        0.57558815, 0.86057671, 0.97139116, 0.68633741, 0.34491292],\n",
       "       [0.03914574, 0.79523027, 0.47074102, 0.12673653, 0.89711847,\n",
       "        0.72063148, 0.7713888 , 0.60744167, 0.98177707, 0.98608085],\n",
       "       [0.15302498, 0.1362075 , 0.19546433, 0.11677422, 0.20535027,\n",
       "        0.5807364 , 0.61346532, 0.96344599, 0.67574324, 0.99822096],\n",
       "       [0.48351421, 0.33508904, 0.57530953, 0.09997821, 0.37276595,\n",
       "        0.40477492, 0.14753552, 0.30285548, 0.37337957, 0.79190951],\n",
       "       [0.95150826, 0.26832666, 0.79433712, 0.5856823 , 0.41577032,\n",
       "        0.51407788, 0.95322719, 0.0405362 , 0.64170812, 0.28262846],\n",
       "       [0.43684054, 0.33994621, 0.64844164, 0.18622018, 0.96515351,\n",
       "        0.90669631, 0.01634532, 0.88449305, 0.57561953, 0.10627812]])"
      ]
     },
     "execution_count": 25,
     "metadata": {},
     "output_type": "execute_result"
    }
   ],
   "source": [
    "#9. Create a 10x10 array with random values and find the minimum and maximum values\n",
    "\n",
    "random_values2 = np.random.random((10,10))\n",
    "random_values2"
   ]
  },
  {
   "cell_type": "code",
   "execution_count": 30,
   "id": "33b31abb",
   "metadata": {},
   "outputs": [
    {
     "name": "stdout",
     "output_type": "stream",
     "text": [
      "0.01634532035231373\n",
      "0.9982209598477375\n"
     ]
    }
   ],
   "source": [
    "print(np.min(random_values2))\n",
    "print(np.max(random_values2))"
   ]
  },
  {
   "cell_type": "code",
   "execution_count": 33,
   "id": "33caa8a0",
   "metadata": {},
   "outputs": [
    {
     "name": "stdout",
     "output_type": "stream",
     "text": [
      "[0.55193401 0.8078737  0.88467956 0.36172652 0.04892357 0.69183521\n",
      " 0.0803303  0.18707899 0.46037124 0.48032012 0.32660563 0.59158575\n",
      " 0.80387901 0.47119662 0.68099579 0.10290305 0.82708323 0.41465783\n",
      " 0.50186368 0.5027737  0.58246425 0.92363678 0.31977972 0.00565939\n",
      " 0.01034529 0.80932967 0.91290961 0.15618328 0.01000487 0.56890773]\n"
     ]
    }
   ],
   "source": [
    "#10. Create a random vector of size 30 and find the mean value\n",
    "\n",
    "random_vector = np.random.random(30)\n",
    "print(random_vector)"
   ]
  },
  {
   "cell_type": "code",
   "execution_count": 34,
   "id": "c97a55ac",
   "metadata": {},
   "outputs": [
    {
     "data": {
      "text/plain": [
       "0.4692612699060651"
      ]
     },
     "execution_count": 34,
     "metadata": {},
     "output_type": "execute_result"
    }
   ],
   "source": [
    "np.mean(random_vector)"
   ]
  },
  {
   "cell_type": "code",
   "execution_count": 6,
   "id": "08d16444",
   "metadata": {},
   "outputs": [
    {
     "data": {
      "text/plain": [
       "array([[0, 0, 0, 0, 0],\n",
       "       [1, 0, 0, 0, 0],\n",
       "       [0, 2, 0, 0, 0],\n",
       "       [0, 0, 3, 0, 0],\n",
       "       [0, 0, 0, 4, 0]])"
      ]
     },
     "execution_count": 6,
     "metadata": {},
     "output_type": "execute_result"
    }
   ],
   "source": [
    "#11. Create a 5x5 matrix with values 1,2,3,4 just below the diagonal\n",
    "\n",
    "diagonal = np.diag([1,2,3,4],k=-1)\n",
    "diagonal"
   ]
  },
  {
   "cell_type": "code",
   "execution_count": 81,
   "id": "5818d5d8",
   "metadata": {},
   "outputs": [
    {
     "data": {
      "text/plain": [
       "array([[54, 43, 65, 58, 54],\n",
       "       [79, 70, 51, 90, 67],\n",
       "       [68, 77, 58, 21, 20],\n",
       "       [82, 21, 55, 44, 30],\n",
       "       [63,  2, 67, 83,  8]])"
      ]
     },
     "execution_count": 81,
     "metadata": {},
     "output_type": "execute_result"
    }
   ],
   "source": [
    "#12. Normalize a 5x5 random matrix \n",
    "\n",
    "Mat = np.random.randint(100, size=25).reshape(5,5)\n",
    "Mat"
   ]
  },
  {
   "cell_type": "code",
   "execution_count": 83,
   "id": "d323c06a",
   "metadata": {},
   "outputs": [
    {
     "data": {
      "text/plain": [
       "array([[0.19708029, 0.15693431, 0.23722628, 0.21167883, 0.19708029],\n",
       "       [0.22128852, 0.19607843, 0.14285714, 0.25210084, 0.18767507],\n",
       "       [0.27868852, 0.31557377, 0.23770492, 0.08606557, 0.08196721],\n",
       "       [0.35344828, 0.09051724, 0.23706897, 0.18965517, 0.12931034],\n",
       "       [0.28251121, 0.00896861, 0.30044843, 0.37219731, 0.03587444]])"
      ]
     },
     "execution_count": 83,
     "metadata": {},
     "output_type": "execute_result"
    }
   ],
   "source": [
    "from sklearn.preprocessing import normalize\n",
    "\n",
    "Mat_normed = normalize(Mat, axis=1, norm='l1')\n",
    "Mat_normed"
   ]
  },
  {
   "cell_type": "code",
   "execution_count": 48,
   "id": "415a4fec",
   "metadata": {},
   "outputs": [
    {
     "data": {
      "text/plain": [
       "array([4, 5])"
      ]
     },
     "execution_count": 48,
     "metadata": {},
     "output_type": "execute_result"
    }
   ],
   "source": [
    "#13. How to find common values between two arrays? \n",
    "\n",
    "array1 = [(1,2,3,4,5)]\n",
    "array2 = [(4,5,6,7,8)]\n",
    "\n",
    "np.intersect1d(array1, array2)"
   ]
  },
  {
   "cell_type": "code",
   "execution_count": 13,
   "id": "45de7f69",
   "metadata": {},
   "outputs": [
    {
     "data": {
      "text/plain": [
       "array([0.82292032, 0.51204979, 0.43499543, 0.99153177, 0.06750977,\n",
       "       0.64981258, 0.96969521, 0.91371458, 0.58342373, 0.95951227])"
      ]
     },
     "execution_count": 13,
     "metadata": {},
     "output_type": "execute_result"
    }
   ],
   "source": [
    "#14. Create a random vector of size 10 and sort it \n",
    "\n",
    "ran_vector = np.random.random(10)\n",
    "ran_vector\n"
   ]
  },
  {
   "cell_type": "code",
   "execution_count": 14,
   "id": "51b3fb1a",
   "metadata": {},
   "outputs": [
    {
     "data": {
      "text/plain": [
       "array([0.06750977, 0.43499543, 0.51204979, 0.58342373, 0.64981258,\n",
       "       0.82292032, 0.91371458, 0.95951227, 0.96969521, 0.99153177])"
      ]
     },
     "execution_count": 14,
     "metadata": {},
     "output_type": "execute_result"
    }
   ],
   "source": [
    "np.sort(ran_vector)"
   ]
  },
  {
   "cell_type": "code",
   "execution_count": 8,
   "id": "d9e5cf02",
   "metadata": {},
   "outputs": [
    {
     "data": {
      "text/plain": [
       "array([0.919768  , 0.88071151, 0.00292325, 0.68053331, 0.37063469,\n",
       "       0.80884595, 0.01814247, 0.23578324, 0.39751916, 0.11126093])"
      ]
     },
     "execution_count": 8,
     "metadata": {},
     "output_type": "execute_result"
    }
   ],
   "source": [
    "#15. Create random vector of size 10 and replace the maximum value by 0\n",
    "\n",
    "ran_vector2 = np.random.random(10)\n",
    "ran_vector2"
   ]
  },
  {
   "cell_type": "code",
   "execution_count": 9,
   "id": "94b48e85",
   "metadata": {},
   "outputs": [
    {
     "data": {
      "text/plain": [
       "array([0.00292325, 0.01814247, 0.11126093, 0.23578324, 0.37063469,\n",
       "       0.39751916, 0.68053331, 0.80884595, 0.88071151, 0.919768  ])"
      ]
     },
     "execution_count": 9,
     "metadata": {},
     "output_type": "execute_result"
    }
   ],
   "source": [
    "ran_vector2 = np.sort(ran_vector2)\n",
    "ran_vector2"
   ]
  },
  {
   "cell_type": "code",
   "execution_count": 11,
   "id": "b0174863",
   "metadata": {},
   "outputs": [
    {
     "data": {
      "text/plain": [
       "array([0.00292325, 0.01814247, 0.11126093, 0.23578324, 0.37063469,\n",
       "       0.39751916, 0.68053331, 0.80884595, 0.88071151, 0.        ])"
      ]
     },
     "execution_count": 11,
     "metadata": {},
     "output_type": "execute_result"
    }
   ],
   "source": [
    "ran_vector2[-1] = 0\n",
    "ran_vector2"
   ]
  },
  {
   "cell_type": "code",
   "execution_count": 64,
   "id": "827fcb6d",
   "metadata": {},
   "outputs": [
    {
     "data": {
      "text/plain": [
       "array([[0.27367978, 0.81714884],\n",
       "       [0.38954989, 0.49174171],\n",
       "       [0.11877305, 0.75437784]])"
      ]
     },
     "execution_count": 64,
     "metadata": {},
     "output_type": "execute_result"
    }
   ],
   "source": [
    "#16. Subtract the mean of each row of a matrix \n",
    "\n",
    "matrix1 = np.random.rand(3,2)\n",
    "matrix1"
   ]
  },
  {
   "cell_type": "code",
   "execution_count": 66,
   "id": "3194a40f",
   "metadata": {},
   "outputs": [
    {
     "data": {
      "text/plain": [
       "array([[-0.27173453,  0.27173453],\n",
       "       [-0.05109591,  0.05109591],\n",
       "       [-0.31780239,  0.31780239]])"
      ]
     },
     "execution_count": 66,
     "metadata": {},
     "output_type": "execute_result"
    }
   ],
   "source": [
    "matrix1 = matrix1 - matrix1.mean(axis=1, keepdims=True)\n",
    "\n",
    "matrix1\n"
   ]
  },
  {
   "cell_type": "code",
   "execution_count": 77,
   "id": "59f41825",
   "metadata": {},
   "outputs": [
    {
     "name": "stdout",
     "output_type": "stream",
     "text": [
      "[9995 9996 9997 9998 9999]\n"
     ]
    }
   ],
   "source": [
    "#17. How to get the n largest values of an array\n",
    "#Z = np.arange(10000) np.random.shuffle(Z) n = 5 hint: np.argsort | np.argpartition\n",
    "\n",
    "Z = np.arange(10000)\n",
    "np.random.shuffle(Z)\n",
    "Z\n",
    "\n",
    "n = 5\n",
    "\n",
    "print (Z[np.argsort(Z)[-n:]])\n"
   ]
  },
  {
   "cell_type": "code",
   "execution_count": 70,
   "id": "d9d42617",
   "metadata": {},
   "outputs": [
    {
     "data": {
      "text/plain": [
       "array([[8, 3, 5],\n",
       "       [9, 8, 6],\n",
       "       [6, 6, 4],\n",
       "       [2, 6, 1],\n",
       "       [0, 9, 1]])"
      ]
     },
     "execution_count": 70,
     "metadata": {},
     "output_type": "execute_result"
    }
   ],
   "source": [
    "#18. Create a random 5*3 matrix and replace items that are larger than 4 by their squares ( Example: 6 --> 36)\n",
    "\n",
    "random_again = np.random.randint(10, size=15).reshape(5,3)\n",
    "random_again"
   ]
  },
  {
   "cell_type": "code",
   "execution_count": 73,
   "id": "757e47a7",
   "metadata": {},
   "outputs": [
    {
     "data": {
      "text/plain": [
       "array([[64,  3, 25],\n",
       "       [81, 64, 36],\n",
       "       [36, 36,  4],\n",
       "       [ 2, 36,  1],\n",
       "       [ 0, 81,  1]])"
      ]
     },
     "execution_count": 73,
     "metadata": {},
     "output_type": "execute_result"
    }
   ],
   "source": [
    "np.where(random_again > 4, random_again*random_again, random_again)"
   ]
  }
 ],
 "metadata": {
  "kernelspec": {
   "display_name": "Python 3 (ipykernel)",
   "language": "python",
   "name": "python3"
  },
  "language_info": {
   "codemirror_mode": {
    "name": "ipython",
    "version": 3
   },
   "file_extension": ".py",
   "mimetype": "text/x-python",
   "name": "python",
   "nbconvert_exporter": "python",
   "pygments_lexer": "ipython3",
   "version": "3.9.13"
  }
 },
 "nbformat": 4,
 "nbformat_minor": 5
}
